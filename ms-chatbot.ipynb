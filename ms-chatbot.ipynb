{
 "cells": [
  {
   "cell_type": "code",
   "execution_count": 2,
   "metadata": {},
   "outputs": [
    {
     "data": {
      "text/plain": [
       "True"
      ]
     },
     "execution_count": 2,
     "metadata": {},
     "output_type": "execute_result"
    }
   ],
   "source": [
    "## Load environment variables\n",
    "\n",
    "from dotenv import load_dotenv\n",
    "load_dotenv()"
   ]
  },
  {
   "cell_type": "code",
   "execution_count": 3,
   "metadata": {},
   "outputs": [],
   "source": [
    "## Define the LLM Model and the Embedding model\n",
    "\n",
    "from langchain_openai import ChatOpenAI\n",
    "from langchain_openai import OpenAIEmbeddings\n",
    "llm=ChatOpenAI(model=\"gpt-4o-mini\",temperature=0)\n",
    "embeddings=OpenAIEmbeddings(model=\"text-embedding-3-small\", dimensions=1536)"
   ]
  },
  {
   "cell_type": "code",
   "execution_count": 4,
   "metadata": {},
   "outputs": [],
   "source": [
    "## Load the documents\n",
    "\n",
    "from langchain_community.document_loaders import Docx2txtLoader\n",
    "loader_bsw = Docx2txtLoader(\"BSW SOM 0.1.docx\")\n",
    "loader_npac = Docx2txtLoader(\"NPAC COREX SOM v2.0.docx\")\n",
    "data_bsw = loader_bsw.load()\n",
    "data_npac = loader_npac.load()"
   ]
  },
  {
   "cell_type": "code",
   "execution_count": 5,
   "metadata": {},
   "outputs": [],
   "source": [
    "## Define a custom splitter\n",
    "\n",
    "import re\n",
    "from langchain_openai import ChatOpenAI\n",
    "from typing import Any, List\n",
    "from langchain_text_splitters import TextSplitter\n",
    "from langchain_core.prompts import ChatPromptTemplate\n",
    "from langchain_core.output_parsers import StrOutputParser\n",
    "from langchain_core.runnables import RunnablePassthrough\n",
    "from langchain_core.documents import Document\n",
    "\n",
    "class GPTSplitter(TextSplitter):\n",
    "    def __init__(self, model_name: str = \"gpt-4o-mini\", **kwargs: Any) -> None:\n",
    "        super().__init__(**kwargs)\n",
    "        self.model = ChatOpenAI(model=model_name)\n",
    "\n",
    "        self.prompt = ChatPromptTemplate.from_template(\n",
    "            \"\"\"You are an expert in analyzing and structuring technical documentation, particularly Service Operation Manuals (SOMs). Your task is to divide the given text into coherent, meaningful chunks that preserve both the document's structure and its detailed content. Each chunk should encapsulate a complete section or subsection, including all relevant details, explanations, and bullet points.\n",
    "\n",
    "                Follow these guidelines:\n",
    "                1. Preserve the hierarchical structure (e.g., main sections, subsections) and include all content under each header.\n",
    "                2. Keep related information together (e.g., lists, tables, contact information, detailed explanations).\n",
    "                3. Ensure each chunk is self-contained and includes all necessary context and details.\n",
    "                4. Aim for chunks that cover complete sections or logical groupings of subsections.\n",
    "                5. Include all text content, not just headers or bullet points.\n",
    "                6. Maintain the original formatting and structure within each chunk.\n",
    "\n",
    "                Wrap each chunk in <<<>>> markers.\n",
    "\n",
    "                Example:\n",
    "                <<<3. Centiq Managed Service\n",
    "                3.1. Introduction\n",
    "                • Centiq provides comprehensive managed services for SAP environments\n",
    "                • Our team of experts ensures 24/7 monitoring and support\n",
    "                • We offer proactive maintenance and optimization\n",
    "                [Include all bullet points and any additional explanatory text here]\n",
    "\n",
    "                3.2. Managed Service Description\n",
    "                3.2.1. Service Operations\n",
    "                • 24/7 monitoring of SAP systems and infrastructure\n",
    "                • Incident management and resolution\n",
    "                • Performance tuning and optimization\n",
    "                [Include all bullet points and detailed descriptions of each service operation]>>>\n",
    "\n",
    "                Now, process the following text from the Service Operation Manual, ensuring to include ALL content and details:\n",
    "\n",
    "                {text}\"\"\"\n",
    "        )\n",
    "        self.output_parser = StrOutputParser()\n",
    "        self.chain = (\n",
    "            {\"text\": RunnablePassthrough()}\n",
    "            | self.prompt\n",
    "            | self.model\n",
    "            | self.output_parser\n",
    "        )\n",
    "\n",
    "    # def split_text(self, text: str) -> List[str]:\n",
    "    #     response = self.chain.invoke({\"text\": text})\n",
    "    #     # Use regex to split properly by <<< and >>> markers\n",
    "    #     chunks = re.findall(r'<<<(.*?)>>>', response, re.DOTALL)\n",
    "    #     return [chunk.strip() for chunk in chunks]\n",
    "    \n",
    "    def split_text(self, text: str) -> List[Document]:\n",
    "      chunks = self.chain.invoke(text).split('<<<')[1:]  # Split the result and remove the first empty element\n",
    "      return [Document(page_content=chunk.strip('>>>').strip()) for chunk in chunks]"
   ]
  },
  {
   "cell_type": "code",
   "execution_count": 6,
   "metadata": {},
   "outputs": [],
   "source": [
    "## Split the documents using the custom splitter\n",
    "\n",
    "gpt_splitter = GPTSplitter()\n",
    "bsw_docs = gpt_splitter.split_text(data_bsw)\n",
    "npac_docs = gpt_splitter.split_text(data_npac)"
   ]
  },
  {
   "cell_type": "code",
   "execution_count": 7,
   "metadata": {},
   "outputs": [],
   "source": [
    "for doc in bsw_docs:\n",
    "    doc.metadata[\"source\"] = \"BSW\"\n",
    "\n",
    "for doc in npac_docs:\n",
    "    doc.metadata[\"source\"] = \"NPAC\""
   ]
  },
  {
   "cell_type": "code",
   "execution_count": 8,
   "metadata": {},
   "outputs": [],
   "source": [
    "all_chunks = bsw_docs + npac_docs"
   ]
  },
  {
   "cell_type": "code",
   "execution_count": 9,
   "metadata": {},
   "outputs": [
    {
     "data": {
      "text/plain": [
       "<langchain_chroma.vectorstores.Chroma at 0x240e31a5df0>"
      ]
     },
     "execution_count": 9,
     "metadata": {},
     "output_type": "execute_result"
    }
   ],
   "source": [
    "# Create Chroma vector store\n",
    "from langchain_chroma import Chroma\n",
    "\n",
    "Chroma.from_documents(\n",
    "    documents=all_chunks,\n",
    "    embedding=embeddings,\n",
    "    persist_directory=\"./SOM\"\n",
    ")"
   ]
  },
  {
   "cell_type": "code",
   "execution_count": 10,
   "metadata": {},
   "outputs": [],
   "source": [
    "## loading the vector database from local db\n",
    "\n",
    "vectordb=Chroma(persist_directory=\"SOM\",embedding_function=embeddings)"
   ]
  },
  {
   "cell_type": "code",
   "execution_count": 11,
   "metadata": {},
   "outputs": [],
   "source": [
    "retriever=vectordb.as_retriever(search_kwargs={\"k\": 10})"
   ]
  },
  {
   "cell_type": "code",
   "execution_count": 12,
   "metadata": {},
   "outputs": [
    {
     "data": {
      "text/plain": [
       "[Document(metadata={'source': 'BSW'}, page_content='2. Customer\\n\\nBSW Timber (“BSW”) has acquired the Building and Supply Solutions division of SCA Wood UK, which includes the manufacture and distribution of timber and associated products to the home improvement and builders merchant sectors. \\n\\nAs part of the transition of the Building and Supply Solutions division to BSW there has been a transfer of the company data previously maintained as company 629 in the SCA Wood SAP ECC system. This transfer has been realised through the following high-level activities for which Centiq (and its partner SNP) have been engaged:\\n\\n- Creation of a target SAP landscape in Azure (“Target System”)\\n- Analysis, mapping and migration (“Carve-out”) of company 629 data to Target System\\n- Upgrade of SAP ECC in the Target System to SAP S/4\\n\\nFollowing the completion of the Carve-out Centiq is providing technical support, and systems management and maintenance services (“Managed Services”) for a period of five years.\\n\\nFollowing Hypercare, the BSW Managed Service is scheduled to commence on 21st January 2022.\\n\\nThe Config Team (TCT) is the ‘Lead Partner’ in the engagement with BSW. Apart from P1 incidents, all contact concerning BSW (including tickets) should come to Centiq via TCT.>>>'),\n",
       " Document(metadata={'source': 'BSW'}, page_content='16. Appendix\\n\\nA. Technical Solution\\n\\nBSW Asset List\\n\\nThe copy attached is uncontrolled. For the latest version refer to:\\n\\nTo be updated\\n\\nBSW Azure Infrastructure Landscape Diagram\\n\\nChris to provide\\n\\nThe copy attached is uncontrolled. For the latest version refer to:\\n\\nTo be updated\\n\\nBSW MIM process\\n\\nAwaited from BSW\\n\\nInformation Security Policy for Suppliers\\n\\nAwaited from BSW>>>'),\n",
       " Document(metadata={'source': 'BSW'}, page_content='13. Asset\\n\\nBoth BSW and Centiq will maintain a list of deployed Assets, Centiq will take this baseline from the solution design. This list will be updated as part of the Service Request / Change process.\\n\\nThe following systems are currently represented in the High-Level Design and are anticipated to be covered with the Managed Services:\\n\\nPlease refer to Appendix A for the current BSW Asset List.>>>'),\n",
       " Document(metadata={'source': 'BSW'}, page_content='14. Security\\n\\nSecurity optimisation is provided within the scope of the managed service as part of continual service improvement, covering the areas of security hardening and encryption as defined in the design document.\\n\\nAccess to resources will be by Service Request and signing of the BSW security policy.\\n\\nStarters / leavers will be reviewed as part of the standard service review. BSW and Centiq will maintain a list of privileged and standard users that will be audited regularly.\\n\\nEvidence of these activities will be kept as part of the monthly service review minutes and kept for a period of 2 years. Documented evidence will include time and date stamp screenshots.>>>'),\n",
       " Document(metadata={'source': 'BSW'}, page_content='9. Change Management\\n\\n9.1. Change Policy\\n\\nAll Changes require successful completion of testing before being implemented into the production environment. The exception to this falls to Emergency Changes which require Change Advisory Board/Emergency Committee (CAB/EC) approval for exception. As much testing of the Emergency Change as is possible should be carried out before implementation.\\n\\n9.2. BSW Initiated Change\\n\\nBSW can initiate change by completing a change form and passing to Centiq for estimation as detailed in the above process flow. \\n\\n9.3. Centiq Initiated Change\\n\\nBSW Change Process?\\n\\nEmergency Changes?\\n\\nStandard changes should be raised as Service Requests or discussed as part of the regular service reviews.>>>'),\n",
       " Document(metadata={'source': 'BSW'}, page_content='British Sawn Wood (BSW)\\n\\nService Operating Manual (SOM) v0.1\\n\\nCommercial in confidence\\n\\nVersion Number\\n\\nComment’s\\n\\nApproved\\n\\nDate\\n\\n0.1\\n\\nInitial Document Creation – Ian Lawler\\n\\n21/1/2022\\n\\nApprovers\\n\\nComment’s\\n\\nApproved\\n\\nDate\\n\\nCentiq\\n\\n0.1 - Initial Document Creation\\n\\nBSW\\n\\nContents\\n\\n1.\\tService Operation Manual (SOM) Introduction\\t5\\n\\n1.1.\\tPurpose of the SOM\\t5\\n\\n1.2.\\tChanges to the SOM\\t5\\n\\n2.\\tCustomer\\t5\\n\\n2.1.\\tSupported Environments\\t7\\n\\n2.2.\\tContact Information\\t7\\n\\n2.3.\\tImportant Dates\\t8\\n\\n2.3.1.\\tPear Trading\\t8\\n\\n2.3.2.\\tMaintenance Windows\\t8\\n\\n3.\\tCentiq Managed Service\\t9\\n\\n3.1.\\tIntroduction\\t9\\n\\n3.2.\\tManaged Service Description\\t10\\n\\n3.2.1.\\tService Operations\\t10\\n\\n3.2.2.\\tSAP BASIS Operations\\t10\\n\\n3.2.3.\\tEarly Watch Alert Reporting (EWA)\\t10\\n\\n3.2.4.\\tService Management\\t11\\n\\n3.2.5.\\tMonitoring\\t11\\n\\n3.2.6.\\tCHANGE CONTROL PROCESS\\t11\\n\\n3.2.7.\\tRELEASE MANAGEMENT\\t12\\n\\n3.2.8.\\tCONTINUITY MANAGEMENT\\t12\\n\\n3.2.9.\\tAVAILABILITY & CAPACITY MANAGEMENT\\t12\\n\\n3.2.10.\\tOPTIMISATION\\t12\\n\\n3.2.11.\\tAZURE MANAGEMENT\\t12\\n\\n3.3.\\tOut of Scope Activities\\t13\\n\\n3.3.1.\\tRelease Management\\t13\\n\\n3.3.2.\\tSAP Security, Authorisations and Role Changes\\t13\\n\\n3.4.\\tTicket Volume\\t13\\n\\n3.5.\\tCentiq General Contact Details\\t15\\n\\n3.6.\\tCentiq Support Model & Supported Services\\t16\\n\\n3.7.\\tRoles and Responsibilities RACI Matrix\\t18\\n\\n4.\\tService Relationship Management\\t19\\n\\n4.1.\\tService Level Agreements (Standard Services)\\t19\\n\\n4.2.\\tService Schedule\\t20\\n\\n4.2.1.\\tWeekly Service Calls\\t20\\n\\n4.2.2.\\tQuarterly Service Reviews\\t20\\n\\n4.2.3.\\tAnnual Senior Stakeholder Reviews\\t20\\n\\n4.2.4.\\tMeeting attendees\\t20\\n\\n5.\\tService Operations\\t21\\n\\n5.1.\\tCentiq Service Desk Coverage\\t21\\n\\n5.2.\\tService Desk Out of Hours Coverage\\t22\\n\\n5.3.\\tSystem Coverage\\t22\\n\\n5.4.\\tEscalation Process\\t23\\n\\n5.5.\\tEvent Management / Monitoring\\t23\\n\\n6.\\tBasis Operations\\t24\\n\\n7.\\tIncident Management\\t26\\n\\n7.1.\\tMajor Incident Management Process\\t26\\n\\n7.2.\\tDisaster Recovery\\t27\\n\\n7.2.1.\\tBackup & Restore\\t27\\n\\n8.\\tProblem Management\\t29\\n\\n8.1.\\tReactive Problem Management\\t29\\n\\n8.2.\\tProactive Problem Management\\t29\\n\\n9.\\tChange Management\\t30\\n\\n9.1.\\tChange Policy\\t30\\n\\n9.2.\\tBSW Initiated Change\\t30\\n\\n9.3.\\tCentiq Initiated Change\\t30\\n\\n10.\\tRelease Management\\t31\\n\\n11.\\tService Requests\\t32\\n\\n11.1.1.\\tSAP User Admin\\t32\\n\\n11.1.2.\\tTransports\\t32\\n\\n12.\\tService Availability & Capacity\\t33\\n\\n12.1.\\tService Availability\\t33\\n\\n12.2.\\tService Capacity\\t33\\n\\n13.\\tAsset\\t33\\n\\n14.\\tSecurity\\t33\\n\\n14.1.\\tSecurity Incidents\\t34\\n\\n15.\\tContinual Service Improvement\\t35\\n\\n16.\\tAppendix\\t36\\n\\nA.\\tTechnical Solution\\t36\\n\\nB.\\tBSW MIM process\\t36\\n\\nC.\\tInformation Security Policy for Suppliers\\t36>>>'),\n",
       " Document(metadata={'source': 'BSW'}, page_content=\"6. Basis Operations\\n\\nItem\\n\\nIncluded as BAU\\n\\nProject \\n\\nSome examples of tasks related to Basis operations management \\n\\nMaintain Landscape Diagrams \\n\\nLandscape/Client Strategy Management (local client creation, copies, deletes)\\n\\nSAP Application Stop/Start\\n\\nReview of Early Watch Reports and planning of any required changes \\n\\nStandard housekeeping activities (logs clear down etc)\\n\\nPrinter queue maintenance (SAP and OS config only, no hardware support, no non-standard)\\n\\nMaintenance  of automated transport management \\n\\nApplication of individual OSS Notes (and any dependant notes as required)\\n\\nManagement of OSS connections for SAP\\n\\nBasis tools specific component patches (plug-ins etc)\\n\\nSolution Manager monitoring configuration\\n\\nAd Hoc Issues (RFC's not working, error investigation etc)\\n\\nAd Hoc Requests (db connections, remote system connections, etc)\\n\\nScheduling downtime, communications\\n\\nSAP Application Technical Configuration \\n\\nSSL Certificate renewals\\n\\nManagement and maintenance of SAP Router\\n\\nLarge CR’s identified through proactive management and monitoring could be considered chargeable activities depending on scope. \\n\\nSAP System health checks \\n\\nUtilising a checklist, the Alert Dashboard and EWA reports to identify and resolve issues and provide recommendations for proactive improvements. \\n\\nDaily for Prod systems\\n\\nWeekly review of non-prod systems \\n\\nPerformance Optimisation  \\n\\nAnalysis of performance issues is generally considered to be a BAU activity, however if the root cause of an issue is determined to be caused by a customer change, enhancement or configuration then it may be deemed chargeable. \\n\\nTransports \\n\\nAuto import job scheduled for QA system imports. Prod transports are currently manually imported once a week. \\n\\nSystem Refresh (P -> Q copy)\\n\\nExcluded from BAU (requirement to be defined at service transition)\\n\\nRequires scoping and pricing \\n\\nLocal client copies\\n\\nScheduled as required (strategy to be defined as part of service transition)\\n\\nManagement of interfaces \\n\\nCreation of RFC’s, users and OS directories for new interfaces as required. \\n\\nNew PI interfaces require scoping and pricing. Any ABAP coding requirements will require scoping and pricing.\\n\\nPrinter installation \\n\\nCreation of printer in SPAD, installation of driver (if req’d)\\n\\nSpecialist non standard printers (no drivers in SPAD for example) require scoping and pricing \\n\\nSSL certificate renewals \\n\\nApplying certificates to SAP systems \\n\\nManaging list of certificates and requesting/purchasing renewals is out of scope for Centiq. \\n\\nSystem Hardening for new audit requirements (e.g S-OX)\\n\\nAny additional hardening requirements over those defined in the design document are excluded from BAU. \\n\\nRequires scoping and pricing>>>\"),\n",
       " Document(metadata={'source': 'BSW'}, page_content='2.3. Important Dates\\n\\nTo be provided by BSW\\n\\n2.3.1. Peak Trading\\n\\nMaintenance Windows\\n\\nTo be agreed with BSW>>>'),\n",
       " Document(metadata={'source': 'BSW'}, page_content='7.2. Disaster Recovery\\n\\nThis section of the document is concerned with Disaster Recovery, defined as the loss of the primary Azure region. Disaster Recovery is not included in the scope of BSW’s Centiq Managed Service.\\n\\n7.2.1. Backup & Restore\\n\\nSuccessful replication and synchronisation across regions of backup data: Azure Blob, Files and Disk data protected and managed in Azure Backup. Data stored and protected is subject to the BSW backup and retention policies as well as specific compliance requirements and utilises storage within the BSW Azure tenant.>>>'),\n",
       " Document(metadata={'source': 'BSW'}, page_content='3.2. Managed Service Description\\n\\nThe key activities and components of the Managed Service include:\\n\\n3.2.1. Service Operations\\n- Incident Management \\n- Regular ticket update and communications using Supplier ITSM toolset\\n- Completion of RCAs for Priority 1 (“P1”) items\\n- Service Request Management\\n- Problem Management\\n- Out of Hours (OOH) support, Incident and Alert management and P1 escalations\\n- Updates to BSW resolution groups, service desk and partners as required\\n- Inputs and implementation of Azure and platform service improvements \\n- Monitoring all alerts from Optiq, Azure Monitor and SUSE Manager to ensure optimal SAP health of all BSW services at all times\\n- Security optimisation\\n- Security, hardening and encryption as defined in the design document\\n\\n3.2.2. SAP BASIS Operations\\n- SAP BASIS incident/problem/request and alert investigation, support and resolution\\n- Updating SAP BASIS runbooks and service operations\\n- Supporting Third Party Services application changes and diagnostics involving SAP BASIS\\n- Reviewing SAP OSS Notes and providing optimum configuration and performance recommendations to the BSW prior to implementation\\n- SAP NetWeaver support \\n- SAP System Health Checks\\n- Daily for Prod \\n- Weekly for Non-Prod\\n- 1x Production to Pre-Production system refresh per annum\\n- System Administration\\n- Technical management of SAP interfaces\\n- SSL certificate renewals\\n- SAP data backup, system snapshots, backup and restore testing and monitoring\\n\\n3.2.3. Early Watch Alert Reporting (EWA)\\n- Review meeting focused on EWA Reports Monthly\\n- Supplier Technical review (Production only) Weekly\\n- All Critical relevant (Red) Alerts will be reviewed and escalated to BSW for change approval\\n- All Critical Security Alerts will be reviewed and escalated to the BSW for change approval\\n- Any major change requirements would result in chargeable activity\\n- Review of all Non-Critical SAP daily check and Early watch recommendations\\n\\n3.2.4. Service Management\\n- Quarterly Service Review meetings with monthly reports\\n- Management of escalations\\n- Major Incident Management - Following BSW’s process, Supplier to manage interactions with other suppliers as necessary\\n- Management of designated third-party escalations (Microsoft, SUSE and SAP)\\n- Support for BSW audits and service improvement actions\\n- Service improvement plan management, actions and metrics\\n- Review any changes to the agreed Service Operating Model (SOM) at the annual stakeholder review\\n- Review of current service against Service Levels\\n- Preparation and production of all Service reports\\n- Review and presentation of all Service improvement initiatives through to completion\\n- Management of the BSW Service Improvement register to track, measure and implement Service improvement activities\\n\\n3.2.5. Monitoring\\n- Monitoring of Optiq Monitoring Software (subscription license and updates per asset)\\n- Monitoring of Azure resources (compute, network, storage, applications, RBAC)\\n- Azure shared resource connections\\n- Azure Storage\\n- Azure Consumption Costs\\n- Azure Security Centre\\n- Monitoring performance of Virtual Machines\\n- Monitoring Operating Systems (Microsoft Windows and SUSE SLES)\\n- Monitoring HANA Databases/HANA Interfaces\\n- Application Gateway\\n- Monitoring of SAP Solution Manager alerts and recommendations\\n\\n3.2.6. CHANGE CONTROL PROCESS\\n- Management of any changes required to the Managed Services shall be through the Change Order process as set out in Clause 14 of the Agreement\\n- Implementation of pre-approved changes\\n- Implementation of Approved emergency changes \\n- Updates to Service Runbooks and the SOM  \\n- Liaison and support of changes through the BSW CAB\\n\\n3.2.7. RELEASE MANAGEMENT\\n- Hot Fixes & Security Patches - Minimum Quarterly (but as required and at any frequency subject to appropriate change control approval for critical issues) \\n- OS Patches\\n- Database Patches\\n- Application Security Related Patches (Mentioned in EWA Section)\\n- Minor Updates - Bi-Annually\\n- Minor HANA release\\n- Minor OS release\\n- SAP Kernel Patch \\n- SAP ST Plugin\\n- Major Upgrades – Annually\\n- Major HANA release\\n- Major OS Release\\n- Following Change Order and Release Management processes\\n\\n3.2.8. CONTINUITY MANAGEMENT\\n- Successful replication and synchronisation across regions of backup data: Azure Blob, Files and Disk data protect and managed in Azure Backup\\n- Multi region Instance replication (by agreed design)\\n\\n3.2.9. AVAILABILITY & CAPACITY MANAGEMENT\\n- Azure Performance and Capacity. Quarterly analysis of Azure and Optiq monitoring to review performance.\\n- SAP Performance and Capacity. Quarterly analysis of SAP BASIS, daily checks and applications servers to review performance\\n\\n3.2.10. OPTIMISATION\\n- Monthly assessment of:\\n   - Performance - Azure resources, clusters, HANA\\n   - Cost - Azure subscriptions, Azure storage, reserved instances\\n   - Capacity - Azure resources, Azure storage, Azure backup\\n   - Availability - Azure resources, clusters, HANA, Applications\\n- Recommendations on emerging, newly released Azure and SAP functionality which may yield increased customer benefits, cost reductions or performance improvements.\\n\\n3.2.11. AZURE MANAGEMENT\\n- Expert advice on the BSW’s Azure SAP Subscription and Tenant configuration \\n- Support of Azure data and system backups, restoration as required and restore testing\\n- Support of Azure Security Management, RBAC configuration and Azure security policies\\n- Support and policy changes to Azure Firewall and Application Gateway services>>>')]"
      ]
     },
     "execution_count": 12,
     "metadata": {},
     "output_type": "execute_result"
    }
   ],
   "source": [
    "retriever.invoke(\"Is client copy in scope for BSW?\")"
   ]
  },
  {
   "cell_type": "code",
   "execution_count": 20,
   "metadata": {},
   "outputs": [],
   "source": [
    "## Generating the multiquery retriever\n",
    "\n",
    "from langchain.prompts import PromptTemplate\n",
    "from langchain_core.runnables import RunnableLambda\n",
    "import re\n",
    "\n",
    "\n",
    "QUERY_PROMPT = PromptTemplate(\n",
    "    input_variables=[\"question\"],\n",
    "    template=\"\"\"You are an expert query rewriter specializing in SAP Basis managed services. Your task is to take an original query and generate at least 3 different versions of the same query. These variations should:\n",
    "\n",
    "                1. Maintain the core intent of the original query\n",
    "                2. Use different phrasings, synonyms, and technical terms\n",
    "                3. Vary in complexity, from simple to more detailed\n",
    "                4. Include relevant SAP Basis-specific terminology where appropriate\n",
    "                5. Consider different aspects or perspectives of the original question\n",
    "                6. Utilize common SAP Basis synonyms and alternative terms where possible\n",
    "                7. Consider using alternate terms where appropriate, e.g system refresh for system copy, etc\n",
    "\n",
    "                Please provide at least 3 rewritten versions of this query, ensuring that each version is distinct and adds value to the search process. Label each rewritten query clearly.\n",
    "\n",
    "                Provide these alternative question like this:\n",
    "                    <<question1>>\n",
    "                    <<question2>>\n",
    "                Only provide the query, no numbering.\n",
    "\n",
    "                Remember to consider various user roles (e.g., SAP Basis administrators, support staff, managers) and their potential ways of asking the same question.\n",
    "\n",
    "                Original question: {question}\"\"\",\n",
    ")\n",
    "\n",
    "\n",
    "def split_and_clean_text(input_text):\n",
    "    return [item for item in re.split(r\"<<|>>\", input_text) if item.strip()]\n",
    "\n",
    "multiquery_chain = (\n",
    "    QUERY_PROMPT | llm | StrOutputParser() | RunnableLambda(split_and_clean_text)\n",
    ")"
   ]
  },
  {
   "cell_type": "code",
   "execution_count": 21,
   "metadata": {},
   "outputs": [
    {
     "data": {
      "text/plain": [
       "['What is the maximum number of client copies permitted annually in SAP systems?',\n",
       " 'How many times can we perform client copies within a single year in our SAP environment?',\n",
       " 'What is the annual limit for executing client copies in SAP Basis management?']"
      ]
     },
     "execution_count": 21,
     "metadata": {},
     "output_type": "execute_result"
    }
   ],
   "source": [
    "list_of_questions=multiquery_chain.invoke(\"How many client copies are allowed in a year?\")\n",
    "list_of_questions"
   ]
  },
  {
   "cell_type": "code",
   "execution_count": 22,
   "metadata": {},
   "outputs": [],
   "source": [
    "## Creating a function for returning unique documents(remove duplicate docs)\n",
    "\n",
    "def flatten_and_unique_documents(documents):\n",
    "    flattened_docs = [doc for sublist in documents for doc in sublist]\n",
    "\n",
    "    unique_docs = []\n",
    "    unique_contents = set()\n",
    "    for doc in flattened_docs:\n",
    "        if doc.page_content not in unique_contents:\n",
    "            unique_docs.append(doc)\n",
    "            unique_contents.add(doc.page_content)\n",
    "\n",
    "    return unique_docs\n",
    "\n",
    "def find_rel_docs(query):\n",
    "    list_of_questions = multiquery_chain.invoke(query)\n",
    "    docs = [retriever.invoke(q) for q in list_of_questions]\n",
    "    final_docs=flatten_and_unique_documents(documents=docs)\n",
    "    return final_docs"
   ]
  },
  {
   "cell_type": "code",
   "execution_count": 23,
   "metadata": {},
   "outputs": [
    {
     "data": {
      "text/plain": [
       "[Document(metadata={'source': 'BSW'}, page_content='3.4. Ticket Volume\\n\\nThe Managed Service anticipates the following ticket volumes, which will be subject to the Fair Usage Policy and will be reviewed on a quarterly basis in line with the requirements set out in Clause 3 of the Agreement:\\n\\n- Triage - 40 per annum\\n- Service Requests - 100 per annum\\n- Tickets Annual - 140 per annum\\n\\nThe annual ticket volume covers inbound tickets from BSW only. Any tickets created by Centiq as part of the routine delivery of the Managed Services, e.g. Release Management, do not contribute to these volumes.>>>'),\n",
       " Document(metadata={'source': 'BSW'}, page_content='16. Appendix\\n\\nA. Technical Solution\\n\\nBSW Asset List\\n\\nThe copy attached is uncontrolled. For the latest version refer to:\\n\\nTo be updated\\n\\nBSW Azure Infrastructure Landscape Diagram\\n\\nChris to provide\\n\\nThe copy attached is uncontrolled. For the latest version refer to:\\n\\nTo be updated\\n\\nBSW MIM process\\n\\nAwaited from BSW\\n\\nInformation Security Policy for Suppliers\\n\\nAwaited from BSW>>>'),\n",
       " Document(metadata={'source': 'BSW'}, page_content='2. Customer\\n\\nBSW Timber (“BSW”) has acquired the Building and Supply Solutions division of SCA Wood UK, which includes the manufacture and distribution of timber and associated products to the home improvement and builders merchant sectors. \\n\\nAs part of the transition of the Building and Supply Solutions division to BSW there has been a transfer of the company data previously maintained as company 629 in the SCA Wood SAP ECC system. This transfer has been realised through the following high-level activities for which Centiq (and its partner SNP) have been engaged:\\n\\n- Creation of a target SAP landscape in Azure (“Target System”)\\n- Analysis, mapping and migration (“Carve-out”) of company 629 data to Target System\\n- Upgrade of SAP ECC in the Target System to SAP S/4\\n\\nFollowing the completion of the Carve-out Centiq is providing technical support, and systems management and maintenance services (“Managed Services”) for a period of five years.\\n\\nFollowing Hypercare, the BSW Managed Service is scheduled to commence on 21st January 2022.\\n\\nThe Config Team (TCT) is the ‘Lead Partner’ in the engagement with BSW. Apart from P1 incidents, all contact concerning BSW (including tickets) should come to Centiq via TCT.>>>'),\n",
       " Document(metadata={'source': 'BSW'}, page_content='2.3. Important Dates\\n\\nTo be provided by BSW\\n\\n2.3.1. Peak Trading\\n\\nMaintenance Windows\\n\\nTo be agreed with BSW>>>'),\n",
       " Document(metadata={'source': 'BSW'}, page_content='13. Asset\\n\\nBoth BSW and Centiq will maintain a list of deployed Assets, Centiq will take this baseline from the solution design. This list will be updated as part of the Service Request / Change process.\\n\\nThe following systems are currently represented in the High-Level Design and are anticipated to be covered with the Managed Services:\\n\\nPlease refer to Appendix A for the current BSW Asset List.>>>'),\n",
       " Document(metadata={'source': 'BSW'}, page_content='3.2. Managed Service Description\\n\\nThe key activities and components of the Managed Service include:\\n\\n3.2.1. Service Operations\\n- Incident Management \\n- Regular ticket update and communications using Supplier ITSM toolset\\n- Completion of RCAs for Priority 1 (“P1”) items\\n- Service Request Management\\n- Problem Management\\n- Out of Hours (OOH) support, Incident and Alert management and P1 escalations\\n- Updates to BSW resolution groups, service desk and partners as required\\n- Inputs and implementation of Azure and platform service improvements \\n- Monitoring all alerts from Optiq, Azure Monitor and SUSE Manager to ensure optimal SAP health of all BSW services at all times\\n- Security optimisation\\n- Security, hardening and encryption as defined in the design document\\n\\n3.2.2. SAP BASIS Operations\\n- SAP BASIS incident/problem/request and alert investigation, support and resolution\\n- Updating SAP BASIS runbooks and service operations\\n- Supporting Third Party Services application changes and diagnostics involving SAP BASIS\\n- Reviewing SAP OSS Notes and providing optimum configuration and performance recommendations to the BSW prior to implementation\\n- SAP NetWeaver support \\n- SAP System Health Checks\\n- Daily for Prod \\n- Weekly for Non-Prod\\n- 1x Production to Pre-Production system refresh per annum\\n- System Administration\\n- Technical management of SAP interfaces\\n- SSL certificate renewals\\n- SAP data backup, system snapshots, backup and restore testing and monitoring\\n\\n3.2.3. Early Watch Alert Reporting (EWA)\\n- Review meeting focused on EWA Reports Monthly\\n- Supplier Technical review (Production only) Weekly\\n- All Critical relevant (Red) Alerts will be reviewed and escalated to BSW for change approval\\n- All Critical Security Alerts will be reviewed and escalated to the BSW for change approval\\n- Any major change requirements would result in chargeable activity\\n- Review of all Non-Critical SAP daily check and Early watch recommendations\\n\\n3.2.4. Service Management\\n- Quarterly Service Review meetings with monthly reports\\n- Management of escalations\\n- Major Incident Management - Following BSW’s process, Supplier to manage interactions with other suppliers as necessary\\n- Management of designated third-party escalations (Microsoft, SUSE and SAP)\\n- Support for BSW audits and service improvement actions\\n- Service improvement plan management, actions and metrics\\n- Review any changes to the agreed Service Operating Model (SOM) at the annual stakeholder review\\n- Review of current service against Service Levels\\n- Preparation and production of all Service reports\\n- Review and presentation of all Service improvement initiatives through to completion\\n- Management of the BSW Service Improvement register to track, measure and implement Service improvement activities\\n\\n3.2.5. Monitoring\\n- Monitoring of Optiq Monitoring Software (subscription license and updates per asset)\\n- Monitoring of Azure resources (compute, network, storage, applications, RBAC)\\n- Azure shared resource connections\\n- Azure Storage\\n- Azure Consumption Costs\\n- Azure Security Centre\\n- Monitoring performance of Virtual Machines\\n- Monitoring Operating Systems (Microsoft Windows and SUSE SLES)\\n- Monitoring HANA Databases/HANA Interfaces\\n- Application Gateway\\n- Monitoring of SAP Solution Manager alerts and recommendations\\n\\n3.2.6. CHANGE CONTROL PROCESS\\n- Management of any changes required to the Managed Services shall be through the Change Order process as set out in Clause 14 of the Agreement\\n- Implementation of pre-approved changes\\n- Implementation of Approved emergency changes \\n- Updates to Service Runbooks and the SOM  \\n- Liaison and support of changes through the BSW CAB\\n\\n3.2.7. RELEASE MANAGEMENT\\n- Hot Fixes & Security Patches - Minimum Quarterly (but as required and at any frequency subject to appropriate change control approval for critical issues) \\n- OS Patches\\n- Database Patches\\n- Application Security Related Patches (Mentioned in EWA Section)\\n- Minor Updates - Bi-Annually\\n- Minor HANA release\\n- Minor OS release\\n- SAP Kernel Patch \\n- SAP ST Plugin\\n- Major Upgrades – Annually\\n- Major HANA release\\n- Major OS Release\\n- Following Change Order and Release Management processes\\n\\n3.2.8. CONTINUITY MANAGEMENT\\n- Successful replication and synchronisation across regions of backup data: Azure Blob, Files and Disk data protect and managed in Azure Backup\\n- Multi region Instance replication (by agreed design)\\n\\n3.2.9. AVAILABILITY & CAPACITY MANAGEMENT\\n- Azure Performance and Capacity. Quarterly analysis of Azure and Optiq monitoring to review performance.\\n- SAP Performance and Capacity. Quarterly analysis of SAP BASIS, daily checks and applications servers to review performance\\n\\n3.2.10. OPTIMISATION\\n- Monthly assessment of:\\n   - Performance - Azure resources, clusters, HANA\\n   - Cost - Azure subscriptions, Azure storage, reserved instances\\n   - Capacity - Azure resources, Azure storage, Azure backup\\n   - Availability - Azure resources, clusters, HANA, Applications\\n- Recommendations on emerging, newly released Azure and SAP functionality which may yield increased customer benefits, cost reductions or performance improvements.\\n\\n3.2.11. AZURE MANAGEMENT\\n- Expert advice on the BSW’s Azure SAP Subscription and Tenant configuration \\n- Support of Azure data and system backups, restoration as required and restore testing\\n- Support of Azure Security Management, RBAC configuration and Azure security policies\\n- Support and policy changes to Azure Firewall and Application Gateway services>>>'),\n",
       " Document(metadata={'source': 'BSW'}, page_content='14. Security\\n\\nSecurity optimisation is provided within the scope of the managed service as part of continual service improvement, covering the areas of security hardening and encryption as defined in the design document.\\n\\nAccess to resources will be by Service Request and signing of the BSW security policy.\\n\\nStarters / leavers will be reviewed as part of the standard service review. BSW and Centiq will maintain a list of privileged and standard users that will be audited regularly.\\n\\nEvidence of these activities will be kept as part of the monthly service review minutes and kept for a period of 2 years. Documented evidence will include time and date stamp screenshots.>>>'),\n",
       " Document(metadata={'source': 'BSW'}, page_content='British Sawn Wood (BSW)\\n\\nService Operating Manual (SOM) v0.1\\n\\nCommercial in confidence\\n\\nVersion Number\\n\\nComment’s\\n\\nApproved\\n\\nDate\\n\\n0.1\\n\\nInitial Document Creation – Ian Lawler\\n\\n21/1/2022\\n\\nApprovers\\n\\nComment’s\\n\\nApproved\\n\\nDate\\n\\nCentiq\\n\\n0.1 - Initial Document Creation\\n\\nBSW\\n\\nContents\\n\\n1.\\tService Operation Manual (SOM) Introduction\\t5\\n\\n1.1.\\tPurpose of the SOM\\t5\\n\\n1.2.\\tChanges to the SOM\\t5\\n\\n2.\\tCustomer\\t5\\n\\n2.1.\\tSupported Environments\\t7\\n\\n2.2.\\tContact Information\\t7\\n\\n2.3.\\tImportant Dates\\t8\\n\\n2.3.1.\\tPear Trading\\t8\\n\\n2.3.2.\\tMaintenance Windows\\t8\\n\\n3.\\tCentiq Managed Service\\t9\\n\\n3.1.\\tIntroduction\\t9\\n\\n3.2.\\tManaged Service Description\\t10\\n\\n3.2.1.\\tService Operations\\t10\\n\\n3.2.2.\\tSAP BASIS Operations\\t10\\n\\n3.2.3.\\tEarly Watch Alert Reporting (EWA)\\t10\\n\\n3.2.4.\\tService Management\\t11\\n\\n3.2.5.\\tMonitoring\\t11\\n\\n3.2.6.\\tCHANGE CONTROL PROCESS\\t11\\n\\n3.2.7.\\tRELEASE MANAGEMENT\\t12\\n\\n3.2.8.\\tCONTINUITY MANAGEMENT\\t12\\n\\n3.2.9.\\tAVAILABILITY & CAPACITY MANAGEMENT\\t12\\n\\n3.2.10.\\tOPTIMISATION\\t12\\n\\n3.2.11.\\tAZURE MANAGEMENT\\t12\\n\\n3.3.\\tOut of Scope Activities\\t13\\n\\n3.3.1.\\tRelease Management\\t13\\n\\n3.3.2.\\tSAP Security, Authorisations and Role Changes\\t13\\n\\n3.4.\\tTicket Volume\\t13\\n\\n3.5.\\tCentiq General Contact Details\\t15\\n\\n3.6.\\tCentiq Support Model & Supported Services\\t16\\n\\n3.7.\\tRoles and Responsibilities RACI Matrix\\t18\\n\\n4.\\tService Relationship Management\\t19\\n\\n4.1.\\tService Level Agreements (Standard Services)\\t19\\n\\n4.2.\\tService Schedule\\t20\\n\\n4.2.1.\\tWeekly Service Calls\\t20\\n\\n4.2.2.\\tQuarterly Service Reviews\\t20\\n\\n4.2.3.\\tAnnual Senior Stakeholder Reviews\\t20\\n\\n4.2.4.\\tMeeting attendees\\t20\\n\\n5.\\tService Operations\\t21\\n\\n5.1.\\tCentiq Service Desk Coverage\\t21\\n\\n5.2.\\tService Desk Out of Hours Coverage\\t22\\n\\n5.3.\\tSystem Coverage\\t22\\n\\n5.4.\\tEscalation Process\\t23\\n\\n5.5.\\tEvent Management / Monitoring\\t23\\n\\n6.\\tBasis Operations\\t24\\n\\n7.\\tIncident Management\\t26\\n\\n7.1.\\tMajor Incident Management Process\\t26\\n\\n7.2.\\tDisaster Recovery\\t27\\n\\n7.2.1.\\tBackup & Restore\\t27\\n\\n8.\\tProblem Management\\t29\\n\\n8.1.\\tReactive Problem Management\\t29\\n\\n8.2.\\tProactive Problem Management\\t29\\n\\n9.\\tChange Management\\t30\\n\\n9.1.\\tChange Policy\\t30\\n\\n9.2.\\tBSW Initiated Change\\t30\\n\\n9.3.\\tCentiq Initiated Change\\t30\\n\\n10.\\tRelease Management\\t31\\n\\n11.\\tService Requests\\t32\\n\\n11.1.1.\\tSAP User Admin\\t32\\n\\n11.1.2.\\tTransports\\t32\\n\\n12.\\tService Availability & Capacity\\t33\\n\\n12.1.\\tService Availability\\t33\\n\\n12.2.\\tService Capacity\\t33\\n\\n13.\\tAsset\\t33\\n\\n14.\\tSecurity\\t33\\n\\n14.1.\\tSecurity Incidents\\t34\\n\\n15.\\tContinual Service Improvement\\t35\\n\\n16.\\tAppendix\\t36\\n\\nA.\\tTechnical Solution\\t36\\n\\nB.\\tBSW MIM process\\t36\\n\\nC.\\tInformation Security Policy for Suppliers\\t36>>>'),\n",
       " Document(metadata={'source': 'BSW'}, page_content='9. Change Management\\n\\n9.1. Change Policy\\n\\nAll Changes require successful completion of testing before being implemented into the production environment. The exception to this falls to Emergency Changes which require Change Advisory Board/Emergency Committee (CAB/EC) approval for exception. As much testing of the Emergency Change as is possible should be carried out before implementation.\\n\\n9.2. BSW Initiated Change\\n\\nBSW can initiate change by completing a change form and passing to Centiq for estimation as detailed in the above process flow. \\n\\n9.3. Centiq Initiated Change\\n\\nBSW Change Process?\\n\\nEmergency Changes?\\n\\nStandard changes should be raised as Service Requests or discussed as part of the regular service reviews.>>>'),\n",
       " Document(metadata={'source': 'BSW'}, page_content='7.2. Disaster Recovery\\n\\nThis section of the document is concerned with Disaster Recovery, defined as the loss of the primary Azure region. Disaster Recovery is not included in the scope of BSW’s Centiq Managed Service.\\n\\n7.2.1. Backup & Restore\\n\\nSuccessful replication and synchronisation across regions of backup data: Azure Blob, Files and Disk data protected and managed in Azure Backup. Data stored and protected is subject to the BSW backup and retention policies as well as specific compliance requirements and utilises storage within the BSW Azure tenant.>>>'),\n",
       " Document(metadata={'source': 'BSW'}, page_content='15. Continual Service Improvement\\n\\nAt Centiq we value continual service improvement and will work with BSW to ensure that we are always adapting what we do to improve on the value we are adding.\\n\\nWe will have a Continual Service Improvement register that will be populated as we see things that could be improved. This will be shared with BSW regularly through the quarterly service reviews. The items on this list can be prioritised based on the value add to BSW.\\n\\nWe take a proactive approach to improving the service we are delivering. We take learnings from existing customers and consistently apply these to conversations and communications across the rest of our customer base, ensuring that we are using insights from one customer to benefit others.>>>'),\n",
       " Document(metadata={'source': 'BSW'}, page_content='10. Release Management\\n\\nRelease Management\\n\\nIncluded as BAU\\n\\nProject \\n\\nOperating System Patching\\n\\n(SUSE)\\n\\nOne upgrade per annum to a new version or service pack\\n\\nBi-annual minor release updates\\n\\nMinimum quarterly patching (security & hotfixes, features) based on SUSE Manager baseline\\n\\nHANA Database Patching \\n\\nOne major HANA release per annum\\n\\nBi-annual minor release update\\n\\nMinimum quarterly but as required patching (security & hotfixes, features)\\n\\nSAP Kernel Patching \\n\\nBi-annually\\n\\nRequires scoping and pricing\\n\\nSAP ST Plugin patching \\n\\nBi-annually\\n\\nRequires scoping and pricing\\n\\nInstallation of new add-ons or plugins\\n\\nNot currently included in BAU\\n\\nRequires scoping and pricing\\n\\nFeature pack installation/update\\n\\nNot currently included in BAU\\n\\nRequires scoping and pricing\\n\\nEHP upgrades\\n\\nNot currently included in BAU\\n\\nRequires scoping and pricing\\n\\nSupport Pack Patching\\n\\nNot currently included in BAU\\n\\nRequires scoping and pricing>>>'),\n",
       " Document(metadata={'source': 'BSW'}, page_content='14.1. Security Incidents\\n\\nCentiq will inform BSW of any Security Incident by following the security reporting process within 24 hours.>>>')]"
      ]
     },
     "execution_count": 23,
     "metadata": {},
     "output_type": "execute_result"
    }
   ],
   "source": [
    "found_docs=find_rel_docs(query=\"How many system copies are allowed in a year for BSW?\")\n",
    "found_docs"
   ]
  },
  {
   "cell_type": "code",
   "execution_count": 24,
   "metadata": {},
   "outputs": [],
   "source": [
    "retrieve_chain=multiquery_chain | RunnableLambda(find_rel_docs)"
   ]
  },
  {
   "cell_type": "code",
   "execution_count": 25,
   "metadata": {},
   "outputs": [
    {
     "data": {
      "text/plain": [
       "[Document(metadata={'source': 'BSW'}, page_content='10. Release Management\\n\\nRelease Management\\n\\nIncluded as BAU\\n\\nProject \\n\\nOperating System Patching\\n\\n(SUSE)\\n\\nOne upgrade per annum to a new version or service pack\\n\\nBi-annual minor release updates\\n\\nMinimum quarterly patching (security & hotfixes, features) based on SUSE Manager baseline\\n\\nHANA Database Patching \\n\\nOne major HANA release per annum\\n\\nBi-annual minor release update\\n\\nMinimum quarterly but as required patching (security & hotfixes, features)\\n\\nSAP Kernel Patching \\n\\nBi-annually\\n\\nRequires scoping and pricing\\n\\nSAP ST Plugin patching \\n\\nBi-annually\\n\\nRequires scoping and pricing\\n\\nInstallation of new add-ons or plugins\\n\\nNot currently included in BAU\\n\\nRequires scoping and pricing\\n\\nFeature pack installation/update\\n\\nNot currently included in BAU\\n\\nRequires scoping and pricing\\n\\nEHP upgrades\\n\\nNot currently included in BAU\\n\\nRequires scoping and pricing\\n\\nSupport Pack Patching\\n\\nNot currently included in BAU\\n\\nRequires scoping and pricing>>>'),\n",
       " Document(metadata={'source': 'NPAC'}, page_content=\"3.2. Managed Service Description\\nThe key activities and components of the Managed Service include:\\n\\n3.2.1. Service Operations\\n- Incident Management and Problem Management of all SAP Technical and Application tickets\\n- Regular ticket update and communications using a combination of the customer’s ITSM toolset (‘FreshService’) and the supplier’s ITSM toolset (Manage Engine)\\n- Completion of RCAs where required\\n- Major Incident Management - Following Customers MIM process, Supplier to manage interactions with other named Suppliers\\n- Service Request Management\\n- Management of designated third-party escalations\\n- Management of escalations\\n- Updates to Customer resolution groups, service desk and partners as required\\n- Monitoring all alerts from Optiq, iDoc Management Console and Solution Manager to ensure optimal SAP health of all Customer services at all times\\n\\n3.2.2. Service Management\\n- Quarterly Service Review meetings\\n- Management of escalations\\n- Major Incident Management - Following Customers MIM process, Supplier to manage interactions with suppliers\\n- Management of designated third-party escalations (Microsoft, SUSE and SAP)\\n- Support for Customer audits and service improvement actions\\n- Service improvement plan management, actions, and metrics\\n- Review any changes to the agreed Service Operating Model (“SOM”) annually\\n- Review of current service against Service Levels\\n- Preparation and production of all Service reports\\n- Review and presentation of all Service improvement initiatives through to completion\\n- Management of the Customer Service Improvement register to track, measure, and implement Service improvement activities\\n\\n3.2.3. Monitoring\\n- Optiq Monitoring Software (licenses are included in the Managed Service and will be uninstalled at the end or termination of the Managed Services agreement with SoftwareOne)\\n- Remediation of Optiq identified issues, events and errors is included in the Managed Service\\n- Monitoring of Azure resources (compute, network, storage, applications)\\n- Azure shared resource connections\\n- Monitoring performance of Virtual Machines\\n- Monitoring Operating Systems (Microsoft Windows and SUSE SLES)\\n- Monitoring HANA Databases/HANA Interfaces\\n- Running of the iDoc Management Console twice a day and reprocessing or investigating iDoc failures where appropriate, for plants FR11 and FI131 (The Config Team (TCT))\\n\\n3.2.4. SAP Basis Operations\\n- SAP BASIS incident/problem/request and alert investigation, support and resolution\\n- Updating SAP BASIS runbooks and service operations\\n- Supporting Third Party Services application changes and diagnostics involving SAP BASIS\\n- Reviewing SAP OSS Notes and ensuring optimal configuration and performance recommendations to the Customer\\n- SAP NetWeaver support \\n- SAP System Health Checks\\n  - Daily for Prod \\n  - Weekly for Non-Prod\\n- System Administration\\n- Technical management of SAP interfaces\\n- SSL certificate renewals\\n- SAP data backup, system snapshots, backup and restore testing and monitoring.\\n- SAP Early Watch Alert Reporting (Production only) Weekly\\n- All Critical relevant (Red) Alerts will be reviewed and escalated to Customer for change approval\\n- All Critical Security Alerts will be reviewed and escalated to the Customer for change approval\\n- Any major change requirements would result in chargeable activity\\n- Review of all Non-Critical SAP daily check and Early watch recommendations.\\n\\n3.2.5. Change Management \\nManagement of any changes required to the Managed Services shall be through the Change Order process as set out in Clause 14 of the Agreement\\n- Implementation of pre-approved changes \\n- Implementation of Approved emergency changes \\n- Updates to Service Runbooks and the SOM\\n- Liaison and support of changes through the Customer CAB\\n\\n3.2.6. Release Management \\n- Hot Fixes & Security Patches - Minimum Quarterly (but as required and at any frequency subject to appropriate change control approval for critical issues) for all options\\n- OS Patches\\n- Database Patches\\n- Application (Security Only) Patches (Mentioned in EWA Section)\\n- Minor Updates - Annual\\n- Minor HANA release\\n- Minor OS release\\n- SAP Kernel Patch \\n- SAP ST Plugin\\n\\n3.2.7. Continuity Management\\nCorex have opted to deploy their SAP estate in a single region with no dedicated resource in a DR region to help control costs. To add resilience to some of their production systems including DNS servers, VMs are deployed in different Availability Zones in the North Europe Azure region.\\n\\nThe use of Availability Zones provides increased availability and automated DR capability within an individual region. In the unlikely event of a loss of the Primary Azure Region, new infrastructure would be created in the secondary region, and systems would be recovered from backup.\\n\\nThe primary Azure region is North Europe (Ireland). In the event of a regional outage, the infrastructure would be rebuilt in West Europe, located in Amsterdam.\\n\\nFailover is between cluster nodes.\\n\\n3.2.8. Backup & Recovery\\nCorex have chosen to utilize Azure Backup for specific backup requirements:\\n- Virtual Machine Backup: Corex leverages Azure Backup to perform regular backups of their virtual machines (VMs). This ensures that critical data, configurations, and applications within the VMs are protected, and allows for efficient restoration in case of data loss or system failures.\\n- SAP HANA Backup: For their SAP HANA deployment, Corex utilizes Azure Backup to perform backups of their SAP HANA databases. This helps protect essential data within the SAP HANA environment and enables efficient recovery, ensuring data integrity and minimising downtime.\\n- Azure Storage Blob Backup: Corex also utilizes Azure Backup for backing up their Azure Storage Blob containers. This allows them to safeguard important data stored within these containers, such as files, objects, or other resources, and facilitates easy restoration when needed.\\n\\nSince Azure Backup does not provide native support for backing up NFS file shares in Azure Files, SoftwareONE has adopted restic as a solution to address this limitation. With restic and a custom script written by SoftwareONE, NFS file shares in Azure Files are backed up in Azure storage accounts. To ensure comprehensive data protection, the Azure storage accounts, including the restic backups, are then backed up by Azure Backup in its recovery services vault. This combination of restic and Azure Backup allows SoftwareONE to effectively safeguard the NFS file shares, providing an extra layer of backup and recovery capabilities within the Azure ecosystem.\\n\\nBackup Policies:\\n- Corex's virtual machine backup policy includes daily backups at 1:00 AM UTC, with instant recovery snapshots retained for 2 days. Daily backups are stored for 7 days, while weekly backups on Sundays at 1:00 AM are retained for 3 weeks. Monthly backups occur on the first Sunday at 1:00 AM and are kept for 12 months, and yearly backups in January on the first Sunday at 1:00 AM are retained for 5 years.\\n- For HANA backups, the frequency is set to daily at 1:00 AM UTC. Daily backups are stored for 7 days, weekly backups on Sundays at 1:00 AM are retained for 3 weeks, and monthly backups on the first Sunday at 1:00 AM are kept for 12 months. Log backups are performed every 15 minutes and retained for 7 days.\\n\\nThese backup policies ensure comprehensive coverage for Corex's virtual machines, HANA databases, and log backups, with varying retention periods tailored to their specific needs for recovery, compliance, and data protection.>>>\"),\n",
       " Document(metadata={'source': 'NPAC'}, page_content='2. Customer\\n\\nIn 2018 NPAC (Nordic Packaging and Container Holdings Limited), part of COREX Group, part of the VPK Group, engaged SoftwareOne (formerly as Centiq) to provide an SAP Managed Service. The contract was renewed in April 2021 for 3 years, up to 30th April 2024.\\n\\nIn March 2023, NPAC migrated their SAP workload from on-premise to Azure. This document has been updated to reflect this.\\n\\n2.1. Supported Environments\\nCurrent state information regarding the NPAC estate is held by SoftwareOne Managed Services Team.\\n\\n2.2. Contact Information\\nName: Gavin McKay\\nEmail Address: gavin.mckay@corexgroup.com\\nContact Number: T +44 (0) 1204 323918, M +44 (0) 7342 997352\\nJob Title: Group IT Manager\\n\\nName: Ismo Savolainen\\nEmail Address: ismo.savolainen@corexgroup.com\\nContact Number: +358 40 9618945\\nJob Title: Global SAP Manager\\n\\n2.3. Important Dates\\n2.3.1. Peak Trading\\nNPAC operates 24x7.\\n\\n2.3.2. Maintenance Windows\\nEXAMPLE – Awaiting Confirmation\\nMonth: Activity\\nJanuary: 3rd Sunday\\nMarch: 3rd Sunday\\nMay: 3rd Sunday\\nSeptember: 3rd Sunday\\n- OS Security & Features patching: Yes (January, March, May, September)\\n- OS Service Pack upgrade: Yes (January, March, May, September)\\n- SAP Kernel Upgrade: Yes (January, March, May, September)\\n- HANA Upgrade: Yes (January, March, May, September)\\n\\nThe following are examples – currently pending confirmation from NPAC\\n- 4 times per year: January, March, May, September\\n- Third Sunday of the month by default to avoid public holidays, 09:00 UK\\n- Major changes requiring business testing to be done once per year\\n- Dev & QA to be done during normal working hours\\n- Dev, 1 week gap, QA, 2 weeks gap, Prod\\n- Urgent patching, e.g. high severity SAP Security Notes, as needed>>>'),\n",
       " Document(metadata={'source': 'BSW'}, page_content=\"6. Basis Operations\\n\\nItem\\n\\nIncluded as BAU\\n\\nProject \\n\\nSome examples of tasks related to Basis operations management \\n\\nMaintain Landscape Diagrams \\n\\nLandscape/Client Strategy Management (local client creation, copies, deletes)\\n\\nSAP Application Stop/Start\\n\\nReview of Early Watch Reports and planning of any required changes \\n\\nStandard housekeeping activities (logs clear down etc)\\n\\nPrinter queue maintenance (SAP and OS config only, no hardware support, no non-standard)\\n\\nMaintenance  of automated transport management \\n\\nApplication of individual OSS Notes (and any dependant notes as required)\\n\\nManagement of OSS connections for SAP\\n\\nBasis tools specific component patches (plug-ins etc)\\n\\nSolution Manager monitoring configuration\\n\\nAd Hoc Issues (RFC's not working, error investigation etc)\\n\\nAd Hoc Requests (db connections, remote system connections, etc)\\n\\nScheduling downtime, communications\\n\\nSAP Application Technical Configuration \\n\\nSSL Certificate renewals\\n\\nManagement and maintenance of SAP Router\\n\\nLarge CR’s identified through proactive management and monitoring could be considered chargeable activities depending on scope. \\n\\nSAP System health checks \\n\\nUtilising a checklist, the Alert Dashboard and EWA reports to identify and resolve issues and provide recommendations for proactive improvements. \\n\\nDaily for Prod systems\\n\\nWeekly review of non-prod systems \\n\\nPerformance Optimisation  \\n\\nAnalysis of performance issues is generally considered to be a BAU activity, however if the root cause of an issue is determined to be caused by a customer change, enhancement or configuration then it may be deemed chargeable. \\n\\nTransports \\n\\nAuto import job scheduled for QA system imports. Prod transports are currently manually imported once a week. \\n\\nSystem Refresh (P -> Q copy)\\n\\nExcluded from BAU (requirement to be defined at service transition)\\n\\nRequires scoping and pricing \\n\\nLocal client copies\\n\\nScheduled as required (strategy to be defined as part of service transition)\\n\\nManagement of interfaces \\n\\nCreation of RFC’s, users and OS directories for new interfaces as required. \\n\\nNew PI interfaces require scoping and pricing. Any ABAP coding requirements will require scoping and pricing.\\n\\nPrinter installation \\n\\nCreation of printer in SPAD, installation of driver (if req’d)\\n\\nSpecialist non standard printers (no drivers in SPAD for example) require scoping and pricing \\n\\nSSL certificate renewals \\n\\nApplying certificates to SAP systems \\n\\nManaging list of certificates and requesting/purchasing renewals is out of scope for Centiq. \\n\\nSystem Hardening for new audit requirements (e.g S-OX)\\n\\nAny additional hardening requirements over those defined in the design document are excluded from BAU. \\n\\nRequires scoping and pricing>>>\"),\n",
       " Document(metadata={'source': 'BSW'}, page_content='3.2. Managed Service Description\\n\\nThe key activities and components of the Managed Service include:\\n\\n3.2.1. Service Operations\\n- Incident Management \\n- Regular ticket update and communications using Supplier ITSM toolset\\n- Completion of RCAs for Priority 1 (“P1”) items\\n- Service Request Management\\n- Problem Management\\n- Out of Hours (OOH) support, Incident and Alert management and P1 escalations\\n- Updates to BSW resolution groups, service desk and partners as required\\n- Inputs and implementation of Azure and platform service improvements \\n- Monitoring all alerts from Optiq, Azure Monitor and SUSE Manager to ensure optimal SAP health of all BSW services at all times\\n- Security optimisation\\n- Security, hardening and encryption as defined in the design document\\n\\n3.2.2. SAP BASIS Operations\\n- SAP BASIS incident/problem/request and alert investigation, support and resolution\\n- Updating SAP BASIS runbooks and service operations\\n- Supporting Third Party Services application changes and diagnostics involving SAP BASIS\\n- Reviewing SAP OSS Notes and providing optimum configuration and performance recommendations to the BSW prior to implementation\\n- SAP NetWeaver support \\n- SAP System Health Checks\\n- Daily for Prod \\n- Weekly for Non-Prod\\n- 1x Production to Pre-Production system refresh per annum\\n- System Administration\\n- Technical management of SAP interfaces\\n- SSL certificate renewals\\n- SAP data backup, system snapshots, backup and restore testing and monitoring\\n\\n3.2.3. Early Watch Alert Reporting (EWA)\\n- Review meeting focused on EWA Reports Monthly\\n- Supplier Technical review (Production only) Weekly\\n- All Critical relevant (Red) Alerts will be reviewed and escalated to BSW for change approval\\n- All Critical Security Alerts will be reviewed and escalated to the BSW for change approval\\n- Any major change requirements would result in chargeable activity\\n- Review of all Non-Critical SAP daily check and Early watch recommendations\\n\\n3.2.4. Service Management\\n- Quarterly Service Review meetings with monthly reports\\n- Management of escalations\\n- Major Incident Management - Following BSW’s process, Supplier to manage interactions with other suppliers as necessary\\n- Management of designated third-party escalations (Microsoft, SUSE and SAP)\\n- Support for BSW audits and service improvement actions\\n- Service improvement plan management, actions and metrics\\n- Review any changes to the agreed Service Operating Model (SOM) at the annual stakeholder review\\n- Review of current service against Service Levels\\n- Preparation and production of all Service reports\\n- Review and presentation of all Service improvement initiatives through to completion\\n- Management of the BSW Service Improvement register to track, measure and implement Service improvement activities\\n\\n3.2.5. Monitoring\\n- Monitoring of Optiq Monitoring Software (subscription license and updates per asset)\\n- Monitoring of Azure resources (compute, network, storage, applications, RBAC)\\n- Azure shared resource connections\\n- Azure Storage\\n- Azure Consumption Costs\\n- Azure Security Centre\\n- Monitoring performance of Virtual Machines\\n- Monitoring Operating Systems (Microsoft Windows and SUSE SLES)\\n- Monitoring HANA Databases/HANA Interfaces\\n- Application Gateway\\n- Monitoring of SAP Solution Manager alerts and recommendations\\n\\n3.2.6. CHANGE CONTROL PROCESS\\n- Management of any changes required to the Managed Services shall be through the Change Order process as set out in Clause 14 of the Agreement\\n- Implementation of pre-approved changes\\n- Implementation of Approved emergency changes \\n- Updates to Service Runbooks and the SOM  \\n- Liaison and support of changes through the BSW CAB\\n\\n3.2.7. RELEASE MANAGEMENT\\n- Hot Fixes & Security Patches - Minimum Quarterly (but as required and at any frequency subject to appropriate change control approval for critical issues) \\n- OS Patches\\n- Database Patches\\n- Application Security Related Patches (Mentioned in EWA Section)\\n- Minor Updates - Bi-Annually\\n- Minor HANA release\\n- Minor OS release\\n- SAP Kernel Patch \\n- SAP ST Plugin\\n- Major Upgrades – Annually\\n- Major HANA release\\n- Major OS Release\\n- Following Change Order and Release Management processes\\n\\n3.2.8. CONTINUITY MANAGEMENT\\n- Successful replication and synchronisation across regions of backup data: Azure Blob, Files and Disk data protect and managed in Azure Backup\\n- Multi region Instance replication (by agreed design)\\n\\n3.2.9. AVAILABILITY & CAPACITY MANAGEMENT\\n- Azure Performance and Capacity. Quarterly analysis of Azure and Optiq monitoring to review performance.\\n- SAP Performance and Capacity. Quarterly analysis of SAP BASIS, daily checks and applications servers to review performance\\n\\n3.2.10. OPTIMISATION\\n- Monthly assessment of:\\n   - Performance - Azure resources, clusters, HANA\\n   - Cost - Azure subscriptions, Azure storage, reserved instances\\n   - Capacity - Azure resources, Azure storage, Azure backup\\n   - Availability - Azure resources, clusters, HANA, Applications\\n- Recommendations on emerging, newly released Azure and SAP functionality which may yield increased customer benefits, cost reductions or performance improvements.\\n\\n3.2.11. AZURE MANAGEMENT\\n- Expert advice on the BSW’s Azure SAP Subscription and Tenant configuration \\n- Support of Azure data and system backups, restoration as required and restore testing\\n- Support of Azure Security Management, RBAC configuration and Azure security policies\\n- Support and policy changes to Azure Firewall and Application Gateway services>>>'),\n",
       " Document(metadata={'source': 'BSW'}, page_content='2. Customer\\n\\nBSW Timber (“BSW”) has acquired the Building and Supply Solutions division of SCA Wood UK, which includes the manufacture and distribution of timber and associated products to the home improvement and builders merchant sectors. \\n\\nAs part of the transition of the Building and Supply Solutions division to BSW there has been a transfer of the company data previously maintained as company 629 in the SCA Wood SAP ECC system. This transfer has been realised through the following high-level activities for which Centiq (and its partner SNP) have been engaged:\\n\\n- Creation of a target SAP landscape in Azure (“Target System”)\\n- Analysis, mapping and migration (“Carve-out”) of company 629 data to Target System\\n- Upgrade of SAP ECC in the Target System to SAP S/4\\n\\nFollowing the completion of the Carve-out Centiq is providing technical support, and systems management and maintenance services (“Managed Services”) for a period of five years.\\n\\nFollowing Hypercare, the BSW Managed Service is scheduled to commence on 21st January 2022.\\n\\nThe Config Team (TCT) is the ‘Lead Partner’ in the engagement with BSW. Apart from P1 incidents, all contact concerning BSW (including tickets) should come to Centiq via TCT.>>>'),\n",
       " Document(metadata={'source': 'NPAC'}, page_content='3. SoftwareOne Managed Service\\n\\n3.1. Introduction\\nThe SAP Managed Service consists of two services, SAP Technical Managed Services and SAP Application Managed Services:\\n\\nThe SAP Technical Managed Service administers and provides the management capability for the SAP Application and support for all the layers of the SAP architecture. The suppliers SAP Technical Managed Service ensures the stability, continuity, and reliance for the SAP Application, achieved by proactive monitoring, trend analysis and adhering to SAP guidance and Industry Best Practices. This service includes the provision of highly experienced SAP Technical experts with the following skill sets:\\n- SAP Basis\\n- SAP HANA\\n- Linux and Windows Operating System for SAP\\n- SAP Infrastructure\\n\\nThe SAP Application Managed Service addresses bugs and issues within the application, undertakes configuration and customisation tasks and implements features and enhancements. Combining consulting skills, business knowledge, and SAP solution expertise to effectively integrate SAP technology into the business environment to achieve the customers expected business results. This service includes the provision of highly experienced SAP Functional experts with the following specialism:\\n- Finance and Cost Controlling (FI/CO)\\n- Transportation Management (TM)\\n- Sales & Distribution (SD)\\n- Materials Management (MM)\\n- Production Planning (PP)\\n- Logistics Execution (LE)\\n- Plant Maintenance (PM)\\n- Quality Management (QM)\\n- SAP Fiori\\n\\nWith the exception of FI/CO, the above Application Managed Service is provided by SoftwareOne’s partner, The Config Team (TCT). FI/CO Managed Service is provided directly by SoftwareOne.\\n\\nThe SAP Managed Service will provide the BAU activities required to manage and optimise the SAP Business Suite on HANA platform. Both the Technical and Application Managed Services include the following activities:\\n- Service Management\\n- Service Operations\\n- Monitoring\\n- Change Management\\n- Release Management\\n\\nIn addition, the Technical Managed Services includes the following activities:\\n- SAP Basis Operations Management\\n- Continuity Management\\n- Availability & Capacity Management>>>'),\n",
       " Document(metadata={'source': 'BSW'}, page_content='3.4. Ticket Volume\\n\\nThe Managed Service anticipates the following ticket volumes, which will be subject to the Fair Usage Policy and will be reviewed on a quarterly basis in line with the requirements set out in Clause 3 of the Agreement:\\n\\n- Triage - 40 per annum\\n- Service Requests - 100 per annum\\n- Tickets Annual - 140 per annum\\n\\nThe annual ticket volume covers inbound tickets from BSW only. Any tickets created by Centiq as part of the routine delivery of the Managed Services, e.g. Release Management, do not contribute to these volumes.>>>'),\n",
       " Document(metadata={'source': 'BSW'}, page_content='12. Service Availability & Capacity\\n\\nAzure Performance and Capacity. Quarterly analysis of Azure and Optiq monitoring to review performance.\\n\\nCentiq will advise the Customer as part of the Managed Service on capacity forecast requirements and options where required to increase capacity and/or archive considerations.\\n\\n12.1. Service Availability\\n\\nIn Azure, VMs configured with premium storage, have an uptime SLA of 99.9% (8.77 hours downtime per year).  This can be increased to 99.95(4.38 hours) with additional clustering technologies where VMs are configured in different availability sets. \\n\\nBased upon BSW’s request, the production SAP application layer will be highly available.\\n\\n12.2. Service Capacity\\n\\nCentiq includes quarterly analysis of Azure and Optiq monitoring to review performance.\\n\\nCentiq will advise the Customer as part of the Managed Service on capacity forecast requirements and options where required to increase capacity and/or archive considerations.>>>'),\n",
       " Document(metadata={'source': 'NPAC'}, page_content='3.2.9. AVAILABILITY & CAPACITY MANAGEMENT\\nAzure Performance and Capacity. Quarterly analysis of Azure and Optiq monitoring to review performance. SoftwareOne will advise the Customer as part of the Managed Service on capacity forecast requirements and options where required to increase capacity and/or archive considerations.\\n\\n3.2.10. OPTIMISATION\\nRegular assessment (in line with Service Reviews) of:\\n- Performance - Azure resources, clusters, HANA\\n- Cost - Azure subscriptions, Azure storage, reserved instances\\n- Capacity - Azure resources, Azure storage, Azure backup\\n- Availability - Azure resources, clusters, HANA, Applications\\n- Recommendations on emerging, newly released Azure and SAP functionality which may yield increased customer benefits, cost reductions or performance improvements.\\n\\n3.3. Out of Scope Activities\\nThe following activities are excluded from the Managed Service:\\n- Release Management - the following activities can be facilitated but will be treated as chargeable project activities due to variation in scope:\\n  - Installation of new add-ons or plugins\\n  - Feature pack installation/update\\n  - EHP upgrades\\n  - Support pack patching\\n  - All GRC and SOX Audit and compliance reports and remedial actions\\n  - Major upgrades include HANA and OS releases\\n\\nSAP Security, Authorisations and Role Changes:\\n- SAP Role Changes\\n  - Role Creations\\n  - Authorisations\\n\\n3.4. Ticket Volume\\nThe Managed Service anticipates the following total ticket volumes but recognises that the Customer has an expected ticket volume increase between January and March each year. This will be normalised as a rolling average over the 12 months of each contract period not to exceed the average incident, problem and requests levels below and will be subject to the Fair Usage Policy and will be reviewed on a quarterly basis in line with the requirements set out in Clause 6 of the Agreement:\\n- Technical Managed Service – 96 per annum / averaged at 8 per month (assumed) but considered overly a quarter basis and reviewed at the anniversary date of the contract\\n- Application Managed Service – 528 per annum / averaged at 44 per month (assumed) but considered overly a quarter basis and reviewed at the anniversary date of the contract\\n\\nThe above ticket volumes cover the number of incidents, problems and requests raised by the Customer. The number of incidents and problems represent those directly identified and raised by the Customer and exclude all tickets identified and raised by Supplier’ by automated monitoring tools, and any Change related tickets.\\n\\n3.5. SoftwareOne General Contact Details\\nThe below table contains the key contact information.\\nName: Main Office\\nEmail Address: info@SoftwareOne.co.uk\\nContact Number: 0115 951 9666\\n\\nName: General Support Enquiries\\nEmail Address: support@SoftwareOne.co.uk \\nContact Number: 0800 142 2710\\n\\nName: Service Desk\\nEmail Address: Servicedesk@SoftwareOne.co.uk\\nContact Number: 0800 142 2710\\n\\nName: Out of hours Support\\nEmail Address: n/a\\nContact Number: 0115 979 6027\\n\\nName: Service Management\\nEmail Address: service.management@SoftwareOne.co.uk\\nContact Number: N/A\\n\\nName: Commercial Account Management\\nEmail Address: Sales@SoftwareOne.co.uk\\nContact Number: 0115 951 9666\\n\\nName: Finance\\nEmail Address: Accounts@SoftwareOne.co.uk\\nContact Number: 0115 951 9666>>>'),\n",
       " Document(metadata={'source': 'NPAC'}, page_content='5. Service Relationship Management\\n\\n5.1. Service Level Agreements (Standard Services)\\nService Level Arrangements\\nEach Service Level has been assigned an Expected Performance Level, expressed as a percentage. The Target Performance Level (set out in Service Level Agreement SLA’s table of this Statement of Work) sets out the acceptable minimum performance of each Managed Service within a Service area over a given month. Below this level the Supplier is not delivering the contracted level of Service. In the event that the Supplier service levels have fault or are consistently below the stated levels above, the Supplier will investigate and report to the Customer within 10 days a rectification plan to restore the Supplier service to expected and contracted levels. The Supplier shall have a further 30 days to implement this plan.\\n\\nThe Supplier shall capture data to support performance reporting of Service areas at monthly service reviews by Service Level as follows:\\n- Priority: Target SLA\\n- P1 / Major Incident: 95% -5%\\n- P2: 90% 0%\\n- P3: 85% 0%\\n- P4: 85% 0%\\n- Service Request: 85% -5%\\n\\n5.2. Service Schedule\\nQuarterly Service Reviews\\nSoftwareOne will provide quarterly Service Reviews and monthly Service Reports, these can consist of the following statistics as standard, however they can be adjusted by agreement.\\n- Quarterly Service Reviews, hosted and managed remotely by default or on client site by arrangement, including\\n  - Ticket analysis and trending information \\n  - SLA Achievement for the previous month\\n  - Problem record information\\n  - RCA’s for any P1/Major Incidents\\n  - Account Governance for starters and leavers (NPAC & SoftwareOne)\\n  - Continual Service Improvement - review of register\\n  - Security reporting (Evidence accounts with escalated privileges)\\n  - Maintenance activities (patching, upgrades)\\n\\nAnnual Senior Stakeholder Reviews\\nWe will host and manage either a call or face to face bi-annual stakeholder review to discuss the overall service, client’s strategic direction and continual service improvement initiatives. These initiatives will also be discussed at the monthly service reviews.\\n\\nThe draft agenda will be as follows:\\n- 12 month review of SLA’s\\n- Improvement / Innovation initiatives\\n- Roadmap review from SoftwareOne\\n- Business continuity \\n- Changes to service\\n\\nThe output of the meeting will be minuted and distributed to all stakeholders.>>>'),\n",
       " Document(metadata={'source': 'BSW'}, page_content='11. Service Requests\\n\\nAll Service Requests will be handled through Manage Engine.\\n\\n11.1. SAP User Admin \\n\\nSAP User Admin \\n\\nIncluded as BAU\\n\\nProject \\n\\nUser administration : reset passwords\\n\\nExcluded from BAU\\n\\nUser admin : assigning/removing roles\\n\\nExcluded from BAU\\n\\nUser admin : creation of new roles \\n\\nExcluded from BAU\\n\\nImplementation of CUA\\n\\nExcluded from BAU>>>'),\n",
       " Document(metadata={'source': 'NPAC'}, page_content='4. Service Operations\\n\\n4.1. SoftwareOne Service Desk Coverage\\nThe hours of coverage are detailed below (working hours for support below are based on UK times)\\nDay: 00:00 - 07:59 | 08:00 - 22:00 | 22:01 - 23:59\\n- Saturday: OOH | OOH | OOH\\n- Sunday: OOH | OOH | OOH\\n- Monday: OOH | Service Desk Hours | OOH\\n- Tuesday: OOH | Service Desk Hours | OOH\\n- Wednesday: OOH | Service Desk Hours | OOH\\n- Thursday: OOH | Service Desk Hours | OOH\\n- Friday: OOH | Service Desk Hours | OOH\\n- Bank Holiday: OOH | OOH | OOH\\n\\n(OOH = Out of hours services)\\nAll systems detailed on the support agreement are entitled to Service Desk Hours support. Those systems which are covered by OOH support additionally are detailed separately if applicable.\\n\\nA dedicated telephone number will be provided for out of office hours support. All services are delivered remotely. Should an on-site presence by SoftwareOne support or consultants be required, these activities will be chargeable.\\n\\n4.2. Service Desk Out of Hours Coverage\\nThe out of hours service is an emergency on call facility that should only be used for high priority business impacting incidents. (Please refer to the critical services agreement below). This service will also be triggered by some of the alerts from our automated monitoring tools.\\n\\nTo use this service, you need to email into servicedesk@SoftwareOne.co.uk and then instantly call the out of hours telephone number to get assistance. You will need to quote the incident number, that you will have received by emailing your ticket in.\\n\\nOut Of Hours On Call - 0115 979 6027\\n\\nWhy do we ask you to email and call? This allows us to have all the critical information to refer to in the email, ensuring there are no miscommunications and we can get straight to the incident in question.\\n\\n4.3. System Coverage\\nService Description: \\n- SDH\\n- OOH\\n- Service impacting incident support\\n- Problem management and RCA for non-service impacting issues Note - These activities should normally be covered during normal business hours of 09:00 – 18:00\\n- Production upgrades, patching or other planned changes\\n- Non-Production upgrades, patching or other planned changes Note - These activities should normally be covered during normal business hours of 09:00 – 18:00\\n\\n4.4. SoftwareOne Support Model & Supported Services\\n(Details of the support model and services provided are to be detailed here.)\\n\\n4.5. Escalation Process\\n(Details of the escalation process are to be detailed here.)\\n\\n4.6. Event Management / Monitoring\\nAs part of the managed service, SoftwareOne will monitor and alert on supported systems via our alerting tool Optiq. If an Event needs further investigation and triage it will be raised in Manage Engine as an Incident by SoftwareOne Operations.\\n\\nThe monitoring service is 24/7, agents are not intrusive and are maintained by SoftwareOne operations.\\n\\n4.7. Incident Management\\n4.7.1. Major Incident Management Process\\nIn the event of a Major Incident defined by NPAC, SoftwareOne will allocate a major incident manager (MIM) and follow a detailed process for handling and escalating the incident through to completion. We will have increased communications throughout this process and will attend any bridge calls the customer has in place to ensure that we are feeding information back through to the customers MIM process.\\n\\n4.7.2. Incident Management Process (non-MI)\\n‘Regular’ incidents will be logged in FreshService by NPAC. The SoftwareOne Managed Services Team interrogates FreshService at regular intervals and assigns new incidents for investigation & resolution. Monitoring alerts from Optiq/Monitiq are automatically logged in Manage Engine, triggering investigation by the Managed Services Team.\\n\\nEscalation to Level 2 or Level 3 support is made as required.\\n\\n4.8. Service Request Management\\nService Requests should be logged by NPAC in FreshService and will be picked up by the SoftwareOne Managed Services Team. The SLA for service requests is included in section 4.1 of this document. Service requests are considered P5.\\n\\n4.9. Problem Management\\nReactive and proactive Problem management is part of the SoftwareOne managed service.\\n\\n4.9.1. Reactive Problem Management\\nFollowing the resolution of a MI / P1 SoftwareOne will give initial feedback after 24 hours with a detailed Root Cause Analysis (RCA) report being produced in 5 business days. \\n\\nAny incident can lead to creation of a Problem. Problems are not limited to P1/Major Incidents. For example, an incident at any priority may be resolved to restore service in the short term, but a problem may be created to investigate and address the root cause of the issue.\\n\\n4.9.2. Proactive Problem Management\\nAs part of the regular service reviews, incidents will be analysed for trends of repeat or linked Incidents. Any recurring issues will be logged as Problem records in Manage Engine and addressed.\\n\\n4.10. Change Management\\n4.10.1. Change Policy\\nSoftwareOne will adhere to the NPAC change process for Planned and Emergency changes and raise their own changes as required, to include the implementation, testing and backout plans.\\n\\nAll Changes require successful completion of testing before being implemented into the production environment. The exception to this is Emergency Changes which require email approval. Normal process during office hours is using Promotion Requests via Release and Deploy process. As much testing of the Emergency Change as is possible should be carried out before implementation.\\n\\n4.10.2. NPAC Initiated Change\\nNPAC can initiate change by submitting a ticket to SoftwareOne to request estimation.\\n\\n4.10.3. Transports\\nManagement of Transports for NPAC to be covered by The Config Team.>>>'),\n",
       " Document(metadata={'source': 'BSW'}, page_content='3.3. Out of Scope Activities\\n\\nThe following activities are out of scope:\\n\\n- Release Management\\n- The following activities can be facilitated but will be treated as chargeable project activities:\\n  - Installation of new add-ons or plugins\\n  - Feature pack installation/update\\n  - EHP upgrades\\n  - Support pack patching\\n  - All GRC and SOX Audit and compliance reports and remedial actions\\n- SAP Security, Authorisations and Role Changes\\n  - SAP Role Changes\\n  - Adding or removing transactions or authorisation objects\\n  - Role Creations\\n  - End User Requests - Creation/Amendment/Deletion of user IDs\\n  - SOX compliance reporting\\n  - Authorisations>>>')]"
      ]
     },
     "execution_count": 25,
     "metadata": {},
     "output_type": "execute_result"
    }
   ],
   "source": [
    "retrieve_chain.invoke(\"How many system copies are allowed in a year?\")"
   ]
  },
  {
   "cell_type": "code",
   "execution_count": 26,
   "metadata": {},
   "outputs": [],
   "source": [
    "from langchain_core.output_parsers import StrOutputParser\n",
    "from langchain_core.runnables import RunnablePassthrough\n",
    "from langchain import hub\n",
    "\n",
    "answer_template = \"\"\"You are an AI assistant tasked with answering questions based on the provided documents. Your goal is to generate accurate and informative answers using only the information contained in these documents.\n",
    "\n",
    "When answering, please follow these guidelines:\n",
    "1. Analyze the given question and the provided context documents carefully.\n",
    "2. Formulate your answer in a clear, concise, and structured manner.\n",
    "3. Present your answer in a point-wise format, using numbered points for main ideas or steps.\n",
    "4. Use sub-points (a, b, c) if necessary to provide additional details under a main point.\n",
    "5. Ensure each point is directly relevant to the question and supported by the context documents.\n",
    "6. If the information in the documents is insufficient to fully answer the question, state this clearly and provide any partial information that is available.\n",
    "7. Do not contradict yourself or provide inconsistent information.\n",
    "\n",
    "Question: {question} \n",
    "\n",
    "Context: {context}\n",
    "\n",
    "Answer:\"\"\"\n",
    "\n",
    "answer_prompt = ChatPromptTemplate.from_template(answer_template)\n",
    "\n",
    "llm=ChatOpenAI(model=\"gpt-4o-mini\",temperature=0.1)\n",
    "\n",
    "query=\"Who is the main contact at Centiq?\"\n",
    "\n",
    "def format_docs(relevant_docs):\n",
    "    return \"\\n\\n\".join(doc.page_content for doc in relevant_docs)\n",
    "\n",
    "\n",
    "\n",
    "answer_chain = (\n",
    "    {\"context\": retrieve_chain| format_docs, \"question\": RunnablePassthrough()} # type: ignore\n",
    "    | answer_prompt\n",
    "    | llm\n",
    "    | StrOutputParser()\n",
    ")"
   ]
  },
  {
   "cell_type": "code",
   "execution_count": 27,
   "metadata": {},
   "outputs": [
    {
     "name": "stdout",
     "output_type": "stream",
     "text": [
      "Welcome to the Service Operations Manual Chatbot!\n",
      "Ask questions about BSW or NPAC, or type 'quit' to exit.\n",
      "Thinking...\n",
      "The main contacts for NPAC (Nordic Packaging and Container Holdings Limited) are as follows:\n",
      "\n",
      "1. **Gavin McKay**\n",
      "   - **Job Title:** Group IT Manager\n",
      "   - **Email Address:** gavin.mckay@corexgroup.com\n",
      "   - **Contact Number:** \n",
      "     - Telephone: +44 (0) 1204 323918\n",
      "     - Mobile: +44 (0) 7342 997352\n",
      "\n",
      "2. **Ismo Savolainen**\n",
      "   - **Job Title:** Global SAP Manager\n",
      "   - **Email Address:** ismo.savolainen@corexgroup.com\n",
      "   - **Contact Number:** +358 40 9618945\n",
      "\n",
      "These individuals are the primary points of contact for any inquiries or communications related to NPAC.Thinking...\n",
      "The provided documents do not specify the exact number of system copies that are in scope for BSW. However, they do mention the following relevant points:\n",
      "\n",
      "1. **System Management Activities**:\n",
      "   - The documents outline various activities related to system management, including local client creation, copies, and deletes as part of Basis operations management.\n",
      "\n",
      "2. **Local Client Copies**:\n",
      "   - Local client copies are mentioned as being scheduled as required, with a strategy to be defined as part of the service transition.\n",
      "\n",
      "3. **System Refresh**:\n",
      "   - A system refresh (Production to Quality copy) is noted as excluded from Business As Usual (BAU) activities and requires scoping and pricing.\n",
      "\n",
      "4. **General Information**:\n",
      "   - The documents indicate that Centiq will manage and maintain a list of deployed assets, but specific details about the number of system copies are not provided.\n",
      "\n",
      "In summary, while the documents reference the management of system copies, they do not provide a definitive count of how many are in scope for BSW. Further clarification from BSW or additional documentation may be required to obtain this information.Thinking...\n",
      "The context documents do not provide specific information regarding the number of system copies in scope for BSW in a year. However, there are some relevant points regarding system management and operations that can be noted:\n",
      "\n",
      "1. **System Refresh**:\n",
      "   - There is mention of \"1x Production to Pre-Production system refresh per annum\" which indicates that at least one system copy is planned annually.\n",
      "\n",
      "2. **Local Client Copies**:\n",
      "   - Local client copies are scheduled as required, but the strategy for these copies is to be defined as part of the service transition. This implies that additional copies may be created, but the exact number is not specified.\n",
      "\n",
      "3. **General Operations**:\n",
      "   - The documents outline various operational activities related to SAP systems, but they do not quantify the total number of system copies beyond the mentioned refresh.\n",
      "\n",
      "In summary, based on the available information, there is at least **one system copy (refresh)** planned annually, but the total number of system copies in scope for BSW is not explicitly defined in the documents.Thinking...\n",
      "1. **Scope of System Copies in BSW**:\n",
      "   - System copies are included in the scope of BSW's Managed Services.\n",
      "   - Specifically, the management of local client copies and system refreshes (e.g., Production to Quality copies) is mentioned.\n",
      "\n",
      "2. **Details on System Copies**:\n",
      "   - **Local Client Copies**:\n",
      "     - Scheduled as required, with the strategy to be defined as part of the service transition.\n",
      "   - **System Refresh**:\n",
      "     - A Production to Pre-Production system refresh is included once per annum.\n",
      "\n",
      "3. **Number of System Copies**:\n",
      "   - The documents do not specify an exact number of system copies that are in scope beyond the annual refresh and local copies as needed. The management of these copies will depend on the defined strategy during the service transition.\n",
      "\n",
      "4. **Additional Information**:\n",
      "   - The management of interfaces and any new PI interfaces will require scoping and pricing, indicating that additional copies or configurations may incur extra costs and need to be defined clearly.\n",
      "\n",
      "In summary, while system copies are in scope for BSW, the exact number is not specified, and the management of these copies will be defined during the service transition.Thank you for using the chatbot. Goodbye!\n"
     ]
    }
   ],
   "source": [
    "def chatbot():\n",
    "    print(\"Welcome to the Service Operations Manual Chatbot!\")\n",
    "    print(\"Ask questions about BSW or NPAC, or type 'quit' to exit.\")\n",
    "    \n",
    "    while True:\n",
    "        query = input(\"\\nYour question: \").strip()\n",
    "        \n",
    "        if query.lower() == 'quit':\n",
    "            print(\"Thank you for using the chatbot. Goodbye!\")\n",
    "            break\n",
    "        \n",
    "        if not query:\n",
    "            print(\"Please enter a valid question.\")\n",
    "            continue\n",
    "        \n",
    "        print(\"Thinking...\")\n",
    "        \n",
    "        try:\n",
    "            for chunk in answer_chain.stream(query):\n",
    "                print(chunk, end=\"\", flush=True)\n",
    "        except Exception as e:\n",
    "            print(f\"An error occurred: {str(e)}\")\n",
    "            print(\"Please try asking your question in a different way.\")\n",
    "\n",
    "# Run the chatbot\n",
    "if __name__ == \"__main__\":\n",
    "    chatbot()\n"
   ]
  },
  {
   "cell_type": "code",
   "execution_count": null,
   "metadata": {},
   "outputs": [],
   "source": []
  }
 ],
 "metadata": {
  "kernelspec": {
   "display_name": "knaiml",
   "language": "python",
   "name": "python3"
  },
  "language_info": {
   "codemirror_mode": {
    "name": "ipython",
    "version": 3
   },
   "file_extension": ".py",
   "mimetype": "text/x-python",
   "name": "python",
   "nbconvert_exporter": "python",
   "pygments_lexer": "ipython3",
   "version": "3.12.5"
  }
 },
 "nbformat": 4,
 "nbformat_minor": 2
}
